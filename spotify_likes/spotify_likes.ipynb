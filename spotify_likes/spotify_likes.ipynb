{
 "cells": [
  {
   "attachments": {},
   "cell_type": "markdown",
   "metadata": {},
   "source": [
    "## Overview\n",
    "\n",
    "This analysis is of a dataset that comes from [kaggle](https://www.kaggle.com/geomack/spotifyclassification) and represents a list of songs and their attributes that a user liked or didn't like. Information about the Spotify API that the dataset was pulled from and the data variables themselves can be found here: [Spotify API](https://developer.spotify.com/web-api/get-audio-features/).\n",
    "\n",
    "This analysis will aim to predict if the user likes or doesn't like a song. To predict what songs a user likes algorithms such as logistic regression, decision trees and random forests, kNN, and potentially SVM if the data can be separated linearly. A bonus, if time permits, would be to clustering the songs by artist or genre (if a linking dataset can be found).\n",
    "\n",
    "*Note: I would like to take this on as a solo projects.*"
   ]
  },
  {
   "cell_type": "code",
   "execution_count": null,
   "metadata": {},
   "outputs": [],
   "source": []
  }
 ],
 "metadata": {
  "kernelspec": {
   "display_name": "Python 3",
   "language": "python",
   "name": "python3"
  },
  "language_info": {
   "codemirror_mode": {
    "name": "ipython",
    "version": 3
   },
   "file_extension": ".py",
   "mimetype": "text/x-python",
   "name": "python",
   "nbconvert_exporter": "python",
   "pygments_lexer": "ipython3",
   "version": "3.6.4"
  }
 },
 "nbformat": 4,
 "nbformat_minor": 2
}
